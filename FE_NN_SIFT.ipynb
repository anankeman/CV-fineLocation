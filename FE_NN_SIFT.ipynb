{
 "cells": [
  {
   "cell_type": "markdown",
   "id": "6c0c4e78-7ebc-45f8-a90e-54b7ca66a18c",
   "metadata": {},
   "source": [
    "# Mix"
   ]
  },
  {
   "cell_type": "code",
   "execution_count": 1,
   "id": "9ac8b7e1-d9f5-41ce-9cd1-cbbda78d5c70",
   "metadata": {},
   "outputs": [],
   "source": [
    "import tensorflow as tf\n",
    "from tensorflow import keras\n",
    "from tensorflow.keras import layers\n",
    "\n",
    "import numpy as np\n",
    "import matplotlib.pyplot as plt\n",
    "\n",
    "from scipy import ndimage \n",
    "\n",
    "import os\n",
    "import cv2\n",
    "import pandas as pd\n",
    "%matplotlib inline"
   ]
  },
  {
   "cell_type": "code",
   "execution_count": 2,
   "id": "688efb4a-f557-4333-93fd-ab39e9a2eb71",
   "metadata": {},
   "outputs": [],
   "source": [
    "#Load the coordinates data set\n",
    "df = pd.read_csv('train.csv')"
   ]
  },
  {
   "cell_type": "code",
   "execution_count": 3,
   "id": "3a763b79-9612-470e-b1fe-0db6d43d145c",
   "metadata": {},
   "outputs": [],
   "source": [
    "# Load images and resize \n",
    "root= './train'\n",
    "names = []\n",
    "train_crude = []\n",
    "for file in os.listdir(root):\n",
    "    img = cv2.imread(os.path.join(root, file))#,cv2.IMREAD_GRAYSCALE)\n",
    "    img = cv2.resize(img, (img.shape[1]//3,img.shape[0]//3))\n",
    "    train_crude.append(img)\n",
    "    names.append(file.split('.')[0])\n",
    "    \n",
    "data = np.stack( train_crude, axis=0 )"
   ]
  },
  {
   "cell_type": "markdown",
   "id": "c00c5f4b-1ff1-491c-8004-336c4ddfe31f",
   "metadata": {},
   "source": [
    "### Extract feature CNN"
   ]
  },
  {
   "cell_type": "code",
   "execution_count": 4,
   "id": "a9d1c189-bbdf-45ad-8197-9a6a85c54cbe",
   "metadata": {},
   "outputs": [],
   "source": [
    "from tensorflow.keras.applications.resnet_v2 import preprocess_input, decode_predictions\n",
    "from tensorflow.keras.applications.resnet_v2 import ResNet50V2\n",
    "base_model = ResNet50V2(weights='imagenet',input_shape=[163, 226,3],include_top=False)"
   ]
  },
  {
   "cell_type": "code",
   "execution_count": 5,
   "id": "9a6e0263-bd2d-4594-bdae-49371466c0e7",
   "metadata": {},
   "outputs": [],
   "source": [
    "#get features in batches and flatten\n",
    "feat = []\n",
    "for i in range(0,7500,500):\n",
    "    temp = base_model.predict(preprocess_input(data[i:i+500]))\n",
    "    feat.append(temp)\n",
    "    \n",
    "\n",
    "feat0 = np.concatenate(feat, axis=0) \n",
    "feat2 = [i.ravel() for i in feat0]\n",
    "feat2 = np.stack(feat2, axis=0)"
   ]
  },
  {
   "cell_type": "markdown",
   "id": "05adb3cd-8176-4798-8d83-be655260fd2a",
   "metadata": {},
   "source": [
    "### Nearest neighbor"
   ]
  },
  {
   "cell_type": "code",
   "execution_count": 7,
   "id": "653b5f0b-04ab-4c92-adcc-6b238fb478a8",
   "metadata": {},
   "outputs": [],
   "source": [
    "\n",
    "from sklearn.neighbors import NearestNeighbors\n",
    "train = feat2[:7000]\n",
    "validation = feat2[7000:]\n",
    "\n",
    "neighTest = NearestNeighbors(n_neighbors=5)\n",
    "neighTest.fit(train)\n",
    "\n",
    "predict = neighTest.kneighbors(validation)"
   ]
  },
  {
   "cell_type": "code",
   "execution_count": 9,
   "id": "3c903d70-75db-4c39-ad95-2b20a104b022",
   "metadata": {},
   "outputs": [
    {
     "data": {
      "text/plain": [
       "array([437.6941 , 452.0017 , 455.92123, 459.71375, 459.81705],\n",
       "      dtype=float32)"
      ]
     },
     "execution_count": 9,
     "metadata": {},
     "output_type": "execute_result"
    }
   ],
   "source": [
    "predict[0][0]"
   ]
  },
  {
   "cell_type": "code",
   "execution_count": 10,
   "id": "ce8b3e1a-eb5e-4578-a43e-d1ee71f9b0fc",
   "metadata": {},
   "outputs": [
    {
     "data": {
      "text/plain": [
       "array([2964,  684,  322, 3702, 6431], dtype=int64)"
      ]
     },
     "execution_count": 10,
     "metadata": {},
     "output_type": "execute_result"
    }
   ],
   "source": [
    "predict[1][0]"
   ]
  },
  {
   "cell_type": "markdown",
   "id": "87a4a3df-27fb-495a-ad58-24ebd27fc76f",
   "metadata": {},
   "source": [
    "### SIFT"
   ]
  },
  {
   "cell_type": "code",
   "execution_count": null,
   "id": "40119ec6-b947-4f87-8556-fa78e1314aa9",
   "metadata": {},
   "outputs": [],
   "source": []
  }
 ],
 "metadata": {
  "kernelspec": {
   "display_name": "cv",
   "language": "python",
   "name": "cv"
  },
  "language_info": {
   "codemirror_mode": {
    "name": "ipython",
    "version": 3
   },
   "file_extension": ".py",
   "mimetype": "text/x-python",
   "name": "python",
   "nbconvert_exporter": "python",
   "pygments_lexer": "ipython3",
   "version": "3.7.11"
  }
 },
 "nbformat": 4,
 "nbformat_minor": 5
}
